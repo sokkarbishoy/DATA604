{
 "cells": [
  {
   "cell_type": "markdown",
   "id": "50c83a81-32c4-4711-8e40-fdbd51729169",
   "metadata": {},
   "source": [
    "### Bishoy Sokkar \n",
    "### Week 1 Assignment  \n",
    "### DATA 604\n"
   ]
  },
  {
   "cell_type": "markdown",
   "id": "50320f86-a8a9-4d6d-b207-f013ba6338b3",
   "metadata": {},
   "source": [
    "Instructions\n",
    "\n",
    "1)  Submit a document verifying that you have successfully installed and tested Simio and Python. If you don't have Windows OS, please check the announcement history to find details on how to install Simio on Mac with the Parallel hypervisor. If you don't have Parallel, or use a different OS other than Windows or Mac, please try installing https://www.anylogic.com/\n",
    "\n"
   ]
  },
  {
   "cell_type": "markdown",
   "id": "b902f3cf-a45d-4937-9c6d-a34baaebe9f2",
   "metadata": {},
   "source": [
    "I installed the Simio Software from the Simio website but the license will expire in one month.  "
   ]
  },
  {
   "cell_type": "code",
   "execution_count": 1,
   "id": "ba5f6bd8-f372-4128-a75b-b313839e584d",
   "metadata": {},
   "outputs": [
    {
     "name": "stdout",
     "output_type": "stream",
     "text": [
      "Python Version: 3.12.11 | packaged by Anaconda, Inc. | (main, Jun  5 2025, 12:58:53) [MSC v.1929 64 bit (AMD64)]\n",
      "SimPy Version: 4.1.1\n",
      "Python and SimPy are installed successfully!\n"
     ]
    }
   ],
   "source": [
    "import sys\n",
    "import simpy\n",
    "import matplotlib\n",
    "print(f\"Python Version: {sys.version}\")\n",
    "print(f\"SimPy Version: {simpy.__version__}\")\n",
    "print(\"Python and SimPy are installed successfully!\")"
   ]
  },
  {
   "cell_type": "markdown",
   "id": "e6c4ce4c-ece4-4bbf-926c-496b4a01f31a",
   "metadata": {},
   "source": [
    "2) Make your first modeling and simulation practice using the following article: https://realpython.com/simpy-simulating-with-python/ \n"
   ]
  },
  {
   "cell_type": "code",
   "execution_count": 2,
   "id": "3fe6681b-ec86-44ea-b258-107f257e8e7b",
   "metadata": {
    "scrolled": true
   },
   "outputs": [],
   "source": [
    "%%capture \n",
    "# SimPy Machine Shop Simulation\n",
    "import random\n",
    "import simpy\n",
    "import statistics\n",
    "\n",
    "# Parameters\n",
    "RANDOM_SEED = 42\n",
    "NUM_MACHINES = 2  # Number of machines in the shop\n",
    "REPAIR_TIME = 30  # Time to repair a machine (minutes)\n",
    "T_INTERFAIL = 300  # Time between failures (minutes)\n",
    "SIM_TIME = 7 * 24 * 60  # Simulation time: 1 week (in minutes)\n",
    "REPAIRPERSONS = [1, 2]  # Scenarios: 1 or 2 repairpersons\n",
    "MEAN_DOWNTIMES = []  # Store mean downtime for each scenario\n",
    "\n",
    "# Set random seed for reproducibility\n",
    "random.seed(2457845)\n",
    "\n",
    "# Machine class to model machine behavior\n",
    "class Machine:\n",
    "    def __init__(self, env, name, repairshop):\n",
    "        self.env = env\n",
    "        self.name = name\n",
    "        self.repairshop = repairshop\n",
    "        self.parts_made = 0\n",
    "        self.broken = False\n",
    "        self.downtime = 0\n",
    "        self.process = env.process(self.working())\n",
    "        env.process(self.break_machine())\n",
    "\n",
    "    def working(self):\n",
    "        \"\"\"Machine produces parts until it breaks.\"\"\"\n",
    "        while True:\n",
    "            try:\n",
    "                while not self.broken:\n",
    "                    self.parts_made += 1\n",
    "                    print(f\"{self.name} made part {self.parts_made} at time {self.env.now:.2f}\")\n",
    "                    yield self.env.timeout(10)  # Time to make one part\n",
    "            except simpy.Interrupt:\n",
    "                self.broken = True\n",
    "                self.downtime -= self.env.now  # Start tracking downtime\n",
    "                with self.repairshop.request() as req:\n",
    "                    yield req\n",
    "                    yield self.env.timeout(REPAIR_TIME)\n",
    "                    print(f\"{self.name} repaired at time {self.env.now:.2f}\")\n",
    "                self.broken = False\n",
    "                self.downtime += self.env.now  # End tracking downtime\n",
    "\n",
    "    def break_machine(self):\n",
    "        \"\"\"Machine breaks at random intervals.\"\"\"\n",
    "        while True:\n",
    "            yield self.env.timeout(random.expovariate(1.0 / T_INTERFAIL))\n",
    "            if not self.broken:\n",
    "                print(f\"{self.name} broke at time {self.env.now:.2f}\")\n",
    "                self.process.interrupt()\n",
    "\n",
    "# Run simulation for a given number of repairpersons\n",
    "def run_simulation(num_repairpersons):\n",
    "    print(f\"\\n--- Simulation with {num_repairpersons} repairperson(s) ---\")\n",
    "    env = simpy.Environment()\n",
    "    repairshop = simpy.Resource(env, num_repairpersons)\n",
    "    machines = [Machine(env, f\"Machine {i}\", repairshop) for i in range(NUM_MACHINES)]\n",
    "    env.run(until=SIM_TIME)\n",
    "    downtimes = [machine.downtime for machine in machines]\n",
    "    mean_downtime = statistics.mean(downtimes) if downtimes else 0\n",
    "    print(f\"Mean downtime per machine: {mean_downtime:.2f} minutes\")\n",
    "    return mean_downtime\n",
    "\n",
    "# Run simulations for different numbers of repairpersons\n",
    "for num in REPAIRPERSONS:\n",
    "    mean_downtime = run_simulation(num)\n",
    "    MEAN_DOWNTIMES.append(mean_downtime)\n"
   ]
  },
  {
   "cell_type": "code",
   "execution_count": 3,
   "id": "2790ba4f-1981-4011-aadd-ffe5133b6f45",
   "metadata": {},
   "outputs": [
    {
     "data": {
      "image/png": "[encoded data removed]",
      "text/plain": [
       "<Figure size 640x480 with 1 Axes>"
      ]
     },
     "metadata": {},
     "output_type": "display_data"
    }
   ],
   "source": [
    "import matplotlib.pyplot as plt\n",
    "\n",
    "plt.bar([f\"{num} Repairperson(s)\" for num in REPAIRPERSONS], MEAN_DOWNTIMES, color=['blue', 'orange'])\n",
    "plt.xlabel(\"Number of Repairpersons\")\n",
    "plt.ylabel(\"Mean Downtime per Machine (minutes)\")\n",
    "plt.title(\"Machine Shop Simulation: Impact of Repairpersons on Downtime\")\n",
    "plt.show()"
   ]
  },
  {
   "cell_type": "markdown",
   "id": "433525b0-6e4d-43b7-9de2-b2a6cb027c55",
   "metadata": {},
   "source": [
    "\n",
    "3) Select one case from https://www.simio.com/academics/student-projects/ and analyze how Simio helped improve the process in the case study.\n",
    "Selected Case Study: Simulation Report for Vayhan Coffee Limited Production\n",
    "\n",
    "\n",
    "I chose to discuss How Simio Helped Improve the Process in the Kowloon Bay Transit System Case Study\n",
    "Stanford University students utilized Simio simulation software to address congestion and passenger mobility issues at the Kowloon Bay transit system, a bustling urban hub in Hong Kong. The primary problem identified was severe congestion at key points, such as the platform escalators at entrances A and B, particularly evident around the 28-minute mark in peak simulations, which led to delays, overcrowding, and diminished passenger experience. Simio played a pivotal role by enabling the creation of a detailed digital model of the station's infrastructure, including passenger flows, escalators, turnstiles, and ticket machines, allowing for virtual analysis without interrupting real operations. Ultimately, Simio improved the process by transforming abstract problems into testable virtual environments, enabling risk-free experimentation that aligned with broader objectives like enhancing passenger experience, ensuring energy efficiency, facilitating quick evacuation, and promoting accessibility for all users.\n",
    "\n",
    "\n",
    "https://www.simio.com/projects/stanford-university-students-used-simio-simulation-software-to-improve-the-transit-system-at-kowloon-bay/"
   ]
  },
  {
   "cell_type": "markdown",
   "id": "aac77c63-eb26-4d4d-82b4-559962e5ec79",
   "metadata": {},
   "source": [
    "4)  Write a short essay explaining which other factors could be considered to build a stronger simulation model, and how you can apply simulation and m3odeling in your professional duties.\n",
    "\n",
    "To build a stronger simulation model for the Kowloon Bay transit system beyond the baseline and alternatives tested, several additional factors could be incorporated. First, introducing stochastic elements, such as random variations in passenger arrival rates, peak-hour surges, or unexpected delays (e.g., modeled with probability distributions like Poisson for arrivals), would better capture real-world unpredictability and improve the model's robustness against variability. We can also Validate the model through comparison with empirical data, such as historical passenger counts or video footage from the station, would enhance accuracy and credibility. \n",
    "\n",
    "In my professional duties as an Inbound Operations Leader, I can apply simulation and modeling to streamline workflows and decision-making processes. A significant part of my job involved handling \"what-if\" scenarios dependent on various factors, such as trailer sizes, the amount of stock, worker availability, and additional resources. My primary responsibility was to calculate and control the flow of work to ensure efficiency and minimize disruptions. For instance, I can envision using a simulation model where work is distributed across different floors, floor sides, or even specific stations, incorporating exact metrics like the processing capacity of each station and the volume of work consumed.\n",
    "By adding these details into a tool like Simio or Python's SimPy, we could significantly reduce the time spent on manual calculations and eliminate communication gaps through standardization. This would allow us to run dynamic \"what-if\" scenarios on-the-fly—such as adjusting for sudden increases in inbound volume or staffing shortages—leading to more proactive resource allocation and optimized operations. Ultimately, integrating simulation into my role would not only enhance productivity but also support data-driven strategies that adapt to real-time variables, fostering a more resilient inbound operations environment."
   ]
  },
  {
   "cell_type": "code",
   "execution_count": null,
   "id": "2dffc1b5-d619-4ef6-9bc3-95bf7445fb72",
   "metadata": {},
   "outputs": [],
   "source": []
  },
  {
   "cell_type": "code",
   "execution_count": null,
   "id": "ea977701-d0ff-4660-ae08-963b809110b0",
   "metadata": {},
   "outputs": [],
   "source": []
  }
 ],
 "metadata": {
  "kernelspec": {
   "display_name": "Python 3 (ipykernel)",
   "language": "python",
   "name": "python3"
  },
  "language_info": {
   "codemirror_mode": {
    "name": "ipython",
    "version": 3
   },
   "file_extension": ".py",
   "mimetype": "text/x-python",
   "name": "python",
   "nbconvert_exporter": "python",
   "pygments_lexer": "ipython3",
   "version": "3.12.11"
  }
 },
 "nbformat": 4,
 "nbformat_minor": 5
}
